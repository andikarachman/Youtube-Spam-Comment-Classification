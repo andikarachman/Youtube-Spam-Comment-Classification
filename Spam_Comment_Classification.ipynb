{
 "cells": [
  {
   "cell_type": "markdown",
   "metadata": {},
   "source": [
    "# Spam Comment Classification\n",
    "\n",
    "YouTube has attracted an increasing number of users. However, such success has also attracted malicious users, which aim to self-promote their videos or disseminate viruses and malwares. Since YouTube offers limited tools for comment moderation, the spam volume is shockingly increasing which lead owners of famous channels to disable the comments section in their videos. Automatic comment spam filtering on YouTube is a challenge even for established classification methods, since the messages are very short and often rife with slangs, symbols and abbreviations. In this notebook, we will build a spam comment classification model to automatically filter spams in YouTube comment.\n",
    "\n",
    "\n",
    "<img src=\"assets/youtube.png\" width=\"700\">\n",
    "\n",
    "\n",
    "To achieve the aforementioned, the following workflow is performed:\n",
    "1. **Data Import**: Data is the lifeblood of predictive analytics. We have to know which data to use, where to gather them, and how to make them useful to solve our problem. \n",
    "2. **Data Cleaning**: Raw data are generally incomplete, inconsistent, and contain many errors. Thus, we need to prepare the data for further processing. We structure and enrich data into another format with the intent of making it more appropriate and valuable for a variety of downstream purposes, such as analytics. \n",
    "3. **Feature Extraction**: We perform feature extraction to transform the original data to a data set with a reduced number of variables, which contains the most discriminatory information.\n",
    "4. **Data Modelling**: There is no machine learning algorithm that works best in all situations. So, the best approach is to generate a high performance model is by trying multiple algorithms, optimizing them, and comparing them for your specific scenario. Data modelling involves selecting and optiming the machine learning models that generate the best predictive performance based on the data we have. \n",
    "5. **Prediction**: Once we have developed the best predictive model, we can deploy it to make predictions. "
   ]
  },
  {
   "cell_type": "markdown",
   "metadata": {},
   "source": [
    "### Table of Contents\n",
    "- [**1.0. Data Import**](#section 1.0.)\n",
    "\n",
    "\n",
    "- [**2.0. Data Cleaning**](#section 2.0.)\n",
    "  - [2.1. Lowercase all the words in the data](#section 2.1.)\n",
    "  - [2.2. Replace URL](#section 2.2.)\n",
    "  - [2.3. Remove encoding](#section 2.3.)\n",
    "\n",
    "\n",
    "- [**3.0. Feature Extraction**](#section 3.0.)\n",
    "  - [3.1. Tokenization](#section 3.1.)\n",
    "  - [3.2. Stop words removal](#section 3.2.)\n",
    "  - [3.3. Lemmatization](#section 3.3.)\n",
    "  - [3.4. Train/test split](#section 3.4.)\n",
    "\n",
    "\n",
    "- [**4.0. Data Modelling**](#section 4.0.)\n",
    "  - [4.1. Simple Modelling](#section 4.1.)\n",
    "  - [4.2. Hyperparameter Optimization for the Best Models](#section 4.2.)\n",
    "\n",
    "\n",
    "- [**5.0. Prediction**](#section 5.0.)"
   ]
  },
  {
   "cell_type": "code",
   "execution_count": 135,
   "metadata": {
    "collapsed": true
   },
   "outputs": [],
   "source": [
    "# Importing data analysis packages\n",
    "import pandas as pd\n",
    "import numpy as np\n",
    "\n",
    "# Importing natural language processing packages\n",
    "import re\n",
    "import nltk\n",
    "from nltk.corpus import stopwords \n",
    "from nltk.tokenize import word_tokenize \n",
    "from nltk.stem import PorterStemmer\n",
    "\n",
    "# Importing model selection and feature extraction packages\n",
    "from sklearn.model_selection import train_test_split\n",
    "from sklearn.model_selection import StratifiedShuffleSplit, cross_validate, GridSearchCV, cross_val_score\n",
    "from sklearn.feature_extraction.text import CountVectorizer\n",
    "\n",
    "# Importing machine learning packages\n",
    "from sklearn.linear_model import LinearRegression, LogisticRegression, RidgeClassifier, SGDClassifier, PassiveAggressiveClassifier\n",
    "from sklearn.gaussian_process import GaussianProcessClassifier\n",
    "from sklearn.svm import SVC, LinearSVC, NuSVC \n",
    "from sklearn.neighbors import KNeighborsClassifier, RadiusNeighborsClassifier\n",
    "from sklearn.naive_bayes import GaussianNB, MultinomialNB, BernoulliNB, ComplementNB\n",
    "from sklearn.tree import DecisionTreeClassifier\n",
    "from sklearn.ensemble import RandomForestClassifier, AdaBoostClassifier, GradientBoostingClassifier, BaggingClassifier, ExtraTreesClassifier, VotingClassifier\n",
    "from sklearn.neural_network import MLPClassifier\n",
    "from xgboost import XGBClassifier\n",
    "\n",
    "# Importing data visualization packages\n",
    "import seaborn as sns\n",
    "import matplotlib.pyplot as plt\n",
    "%matplotlib inline\n",
    "sns.set(style=\"whitegrid\")\n",
    "\n",
    "# Miscellaneous\n",
    "import time\n",
    "import warnings\n",
    "warnings.filterwarnings('ignore')"
   ]
  },
  {
   "cell_type": "markdown",
   "metadata": {},
   "source": [
    "---\n",
    "<a id='section 1.0.'></a>\n",
    "## 1.0. Data Import\n",
    "We import the datasets by calling the following:"
   ]
  },
  {
   "cell_type": "code",
   "execution_count": 136,
   "metadata": {},
   "outputs": [
    {
     "data": {
      "text/html": [
       "<div>\n",
       "<style scoped>\n",
       "    .dataframe tbody tr th:only-of-type {\n",
       "        vertical-align: middle;\n",
       "    }\n",
       "\n",
       "    .dataframe tbody tr th {\n",
       "        vertical-align: top;\n",
       "    }\n",
       "\n",
       "    .dataframe thead th {\n",
       "        text-align: right;\n",
       "    }\n",
       "</style>\n",
       "<table border=\"1\" class=\"dataframe\">\n",
       "  <thead>\n",
       "    <tr style=\"text-align: right;\">\n",
       "      <th></th>\n",
       "      <th>No</th>\n",
       "      <th>Comment</th>\n",
       "      <th>Class</th>\n",
       "    </tr>\n",
       "  </thead>\n",
       "  <tbody>\n",
       "    <tr>\n",
       "      <th>0</th>\n",
       "      <td>1</td>\n",
       "      <td>this song is racist</td>\n",
       "      <td>0</td>\n",
       "    </tr>\n",
       "    <tr>\n",
       "      <th>1</th>\n",
       "      <td>2</td>\n",
       "      <td>and how many subscribers compared to her over ...</td>\n",
       "      <td>1</td>\n",
       "    </tr>\n",
       "    <tr>\n",
       "      <th>2</th>\n",
       "      <td>3</td>\n",
       "      <td>HI! CHECK OUT OUR AWESOME COVERS! AND SAY WHAT...</td>\n",
       "      <td>1</td>\n",
       "    </tr>\n",
       "    <tr>\n",
       "      <th>3</th>\n",
       "      <td>4</td>\n",
       "      <td>well done shakira</td>\n",
       "      <td>0</td>\n",
       "    </tr>\n",
       "    <tr>\n",
       "      <th>4</th>\n",
       "      <td>5</td>\n",
       "      <td>:D subscribe to me for daily vines</td>\n",
       "      <td>1</td>\n",
       "    </tr>\n",
       "  </tbody>\n",
       "</table>\n",
       "</div>"
      ],
      "text/plain": [
       "   No                                            Comment  Class\n",
       "0   1                                this song is racist      0\n",
       "1   2  and how many subscribers compared to her over ...      1\n",
       "2   3  HI! CHECK OUT OUR AWESOME COVERS! AND SAY WHAT...      1\n",
       "3   4                                  well done shakira      0\n",
       "4   5                 :D subscribe to me for daily vines      1"
      ]
     },
     "execution_count": 136,
     "metadata": {},
     "output_type": "execute_result"
    }
   ],
   "source": [
    "# Import dataset\n",
    "df = pd.read_excel('data/Comment Spam.xls')\n",
    "\n",
    "# Show the first 5 rows the dataset\n",
    "df.head()"
   ]
  },
  {
   "cell_type": "markdown",
   "metadata": {},
   "source": [
    "We only need data from `Comment` and `Class` column. So, we put them in the `comments` and `labels` variable, respectively. "
   ]
  },
  {
   "cell_type": "code",
   "execution_count": 137,
   "metadata": {
    "collapsed": true
   },
   "outputs": [],
   "source": [
    "comments = df['Comment']\n",
    "labels = df['Class'].values"
   ]
  },
  {
   "cell_type": "markdown",
   "metadata": {},
   "source": [
    "Let's see the distribution of labels in the dataset."
   ]
  },
  {
   "cell_type": "code",
   "execution_count": 138,
   "metadata": {},
   "outputs": [
    {
     "data": {
      "text/plain": [
       "1    669\n",
       "0    631\n",
       "dtype: int64"
      ]
     },
     "execution_count": 138,
     "metadata": {},
     "output_type": "execute_result"
    }
   ],
   "source": [
    "pd.Series(labels).value_counts()"
   ]
  },
  {
   "cell_type": "markdown",
   "metadata": {},
   "source": [
    "As we can see, this dataset is balance. Thus, we will not have the problems of imbalance dataset. "
   ]
  },
  {
   "cell_type": "markdown",
   "metadata": {},
   "source": [
    "---\n",
    "<a id='section 2.0.'></a>\n",
    "## 2.0. Data Cleaning\n",
    "To improve the predictive performance of the model, the following data cleaning are performed:\n",
    "- [**2.1. Lowercase all the words in the data**](#section 2.1.)\n",
    "- [**2.2. Replace URL**](#section 2.2.)\n",
    "- [**2.3. Remove encoding**](#section 2.3.)"
   ]
  },
  {
   "cell_type": "markdown",
   "metadata": {},
   "source": [
    "<a id='section 2.1.'></a>\n",
    "### 2.1. Lowercase All the Words\n",
    "Sentences can contain a mixture of uppercase and lower case letters. Multiple sentences make up a text document. To reduce the problem space, the most common approach is to reduce everything to lower case."
   ]
  },
  {
   "cell_type": "code",
   "execution_count": 139,
   "metadata": {
    "collapsed": true
   },
   "outputs": [],
   "source": [
    "# Lowercase all words\n",
    "comments = comments.apply(lambda x: x.lower())"
   ]
  },
  {
   "cell_type": "markdown",
   "metadata": {},
   "source": [
    "<a id='section 2.2.'></a>\n",
    "### 2.2. Replace URL\n",
    "We will replace all URLs to `http`. "
   ]
  },
  {
   "cell_type": "code",
   "execution_count": 140,
   "metadata": {
    "collapsed": true
   },
   "outputs": [],
   "source": [
    "def replace_url(text, replacement):\n",
    "    text = str(text)\n",
    "    text = re.sub('http[s]?://(?:[a-zA-Z]|[0-9]|[$-_@.&+]|[!*\\(\\),]|(?:%[0-9a-fA-F][0-9a-fA-F]))+', replacement, text)\n",
    "    text = re.sub('[/]?watch(?:[a-zA-Z]|[0-9]|[$-_@.&+]|[!*\\(\\),]|(?:%[0-9a-fA-F][0-9a-fA-F]))+', replacement, text)\n",
    "    \n",
    "    return text\n",
    "\n",
    "# Replace url to http\n",
    "comments = comments.apply(lambda x: replace_url(x, 'http'))"
   ]
  },
  {
   "cell_type": "markdown",
   "metadata": {},
   "source": [
    "<a id='section 2.3.'></a>\n",
    "### 2.3. Remove Encoding\n",
    "Some comments include `\\ufeff` encoding. Because this encoding provides no meaning, we will remove it by using `remove_encoding` function."
   ]
  },
  {
   "cell_type": "code",
   "execution_count": 141,
   "metadata": {
    "collapsed": true
   },
   "outputs": [],
   "source": [
    "def remove_encoding(text):\n",
    "    text = str(text)\n",
    "    text = text.replace('\\ufeff', '')\n",
    "    return text\n",
    "\n",
    "# Remove encoding\n",
    "comments = comments.apply(lambda x: remove_encoding(x))"
   ]
  },
  {
   "cell_type": "markdown",
   "metadata": {},
   "source": [
    "---\n",
    "<a id='section 3.0.'></a>\n",
    "## 3.0. Feature Extraction\n",
    "\n",
    "There are some feature extraction techniques, such as TF-IDF, Word2Vec, and bag of words. In this problem, we use **bag of words**. Bag of words is one of the simplest techniques of text feature extraction that extracts the most descriptive terms in a document. This method is based on counting number of the words in each document and assign it to a feature space. \n",
    "\n",
    "Bag of words is easy to compute and works with an unknown word (e.g., new words in languages). However, it does not capture the position in the text (syntactic) and does not capture meaning in the text (semantics). Common words (e.g., “am”, “is”, etc.) also affect on the results of bag of words.\n",
    "\n",
    "Before we transform our data into bag of words, we perform the following:\n",
    "- [**3.1. Tokenization**](#section 3.1.)\n",
    "- [**3.2. Stop words removal**](#section 3.2.)\n",
    "- [**3.3. Lemmatization**](#section 3.3.)\n",
    "- [**3.4. Train/test split**](#section 3.4.)\n",
    "\n",
    "<a id='section 3.1.'></a>\n",
    "### 3.1. Tokenization\n",
    "Tokenization is the process of breaking down a stream of text into words, phrases, symbols, or any other meaningful elements called tokens. The main goal of this step is to extract individual words in a sentence. Along with text classification, in text mining, it is necessary to incorporate a parser in the pipeline which performs the tokenization of the documents. We will be splitting data into a word array using spaces as delimiters."
   ]
  },
  {
   "cell_type": "code",
   "execution_count": 142,
   "metadata": {
    "collapsed": true
   },
   "outputs": [],
   "source": [
    "# tokenize all comments in the data\n",
    "comments_token = comments.apply(lambda x: x.split())"
   ]
  },
  {
   "cell_type": "code",
   "execution_count": 143,
   "metadata": {},
   "outputs": [
    {
     "name": "stdout",
     "output_type": "stream",
     "text": [
      "Average word length of comments is 16.\n",
      "Max word length of comments is 213.\n",
      "Min word length of comments is 1.\n"
     ]
    }
   ],
   "source": [
    "print('Average word length of comments is {0:.0f}.'.format(np.mean(comments_token.apply(lambda x: len(x)))))\n",
    "print('Max word length of comments is {0:.0f}.'.format(np.max(comments_token.apply(lambda x: len(x)))))\n",
    "print('Min word length of comments is {0:.0f}.'.format(np.min(comments_token.apply(lambda x: len(x)))))"
   ]
  },
  {
   "cell_type": "markdown",
   "metadata": {},
   "source": [
    "<a id='section 3.2.'></a>\n",
    "### 3.2. Stop Words Removal\n",
    "Stop words are common words that are found in most texts in a corpus. They are removed from a corpus as they affect on the results of bag of words. Additionally, they provide no meaning or context for analysis.  "
   ]
  },
  {
   "cell_type": "code",
   "execution_count": 144,
   "metadata": {
    "collapsed": true
   },
   "outputs": [],
   "source": [
    "stop_words = set(stopwords.words('english')) \n",
    "\n",
    "comments_rsw = []\n",
    "for comment_token in comments_token:\n",
    "    filtered_comment = [w for w in comment_token if not w in stop_words] \n",
    "    comments_rsw.append(filtered_comment)"
   ]
  },
  {
   "cell_type": "markdown",
   "metadata": {},
   "source": [
    "<a id='section 3.3.'></a>\n",
    "### 3.3. Lemmatization\n",
    "Text lemmatization is the process of eliminating redundant prefix or suffix of a word and extract the base word (lemma). Lemmatization is preferred over stemming because lemmatization does morphological analysis of the words."
   ]
  },
  {
   "cell_type": "code",
   "execution_count": 145,
   "metadata": {
    "collapsed": true
   },
   "outputs": [],
   "source": [
    "def lemmatization(dataset):\n",
    "    lemma = nltk.WordNetLemmatizer()\n",
    "    comments_lemma = []\n",
    "    for comment in comments_rsw:\n",
    "        comment_lemma = [lemma.lemmatize(w) for w in comment]\n",
    "        comments_lemma.append(comment_lemma)\n",
    "    return comments_lemma\n",
    "\n",
    "# Words lemmatization\n",
    "comments_lemma = lemmatization(comments_rsw)"
   ]
  },
  {
   "cell_type": "markdown",
   "metadata": {},
   "source": [
    "<a id='section 3.4.'></a>\n",
    "### 3.4. Train and Test Set Split\n",
    "We will split our dataset into train set (80%) and test set (20%)."
   ]
  },
  {
   "cell_type": "code",
   "execution_count": 146,
   "metadata": {
    "collapsed": true
   },
   "outputs": [],
   "source": [
    "X_train, X_test, y_train, y_test = train_test_split(comments_lemma, \n",
    "                                                    labels, \n",
    "                                                    test_size=0.2, \n",
    "                                                    shuffle=True, \n",
    "                                                    random_state=0, \n",
    "                                                    stratify=labels)"
   ]
  },
  {
   "cell_type": "markdown",
   "metadata": {},
   "source": [
    "<a id='section 3.5.'></a>\n",
    "### 3.5. Create Bag of Words\n",
    "There are many uninformative features (words), such as numbers names. We will use only the words that appear in at least 10 comments. In other words, we will use frequent words which are also likely to be in the test set."
   ]
  },
  {
   "cell_type": "code",
   "execution_count": 147,
   "metadata": {
    "collapsed": true
   },
   "outputs": [],
   "source": [
    "# Create bag of words\n",
    "\n",
    "X_train_untokenized = []\n",
    "\n",
    "for comment in X_train:\n",
    "    text = ' '.join(comment)\n",
    "    X_train_untokenized.append(text)\n",
    "    \n",
    "vect = CountVectorizer(min_df=3)\n",
    "vect.fit(X_train_untokenized)\n",
    "\n",
    "\n",
    "X_test_untokenized = []\n",
    "\n",
    "for comment in X_test:\n",
    "    text = ' '.join(comment)\n",
    "    X_test_untokenized.append(text)\n",
    "\n",
    "X_train = vect.transform(X_train_untokenized).toarray()\n",
    "X_test = vect.transform(X_test_untokenized).toarray()"
   ]
  },
  {
   "cell_type": "markdown",
   "metadata": {},
   "source": [
    "---\n",
    "<a id='section 4.0.'></a>\n",
    "## 4.0. Define Models\n",
    "There is no machine learning algorithm that works best in all situations. So, the best approach is to generate a high performance model is by trying multiple algorithms, optimizing them, and comparing them for your specific scenario. In this section, we perform the following:\n",
    "- [**4.1. Simple Modelling**](#section 4.1.): We will handpick several machine learning algorithms and create models based on them and the dataset we have.\n",
    "- [**4.2. Hyperparameter Optimization for the Best Models**](#section 4.2.): We will pick the best models based on the simple modelling, and then tune their hyperparameters to improve their performance. "
   ]
  },
  {
   "cell_type": "markdown",
   "metadata": {},
   "source": [
    "<a id='section 4.1.'></a>\n",
    "### 4.1. Simple Modelling\n",
    "We will handpick several machine learning algorithms and create models based on them and the dataset we have. Then, cross-validation is performed to estimate the accuracy of the machine learning models."
   ]
  },
  {
   "cell_type": "code",
   "execution_count": 148,
   "metadata": {},
   "outputs": [
    {
     "data": {
      "image/png": "[encoded data removed]",
      "text/plain": [
       "<Figure size 864x720 with 1 Axes>"
      ]
     },
     "metadata": {},
     "output_type": "display_data"
    }
   ],
   "source": [
    "# List of machine learning algorithms that will be used for predictions\n",
    "estimator = [('Logistic Regression', LogisticRegression), ('Ridge Classifier', RidgeClassifier), \n",
    "             ('SGD Classifier', SGDClassifier), ('Passive Aggressive Classifier', PassiveAggressiveClassifier), \n",
    "             ('SVC', SVC), ('Linear SVC', LinearSVC), ('Nu SVC', NuSVC), \n",
    "             ('K-Neighbors Classifier', KNeighborsClassifier),\n",
    "             ('Gaussian Naive Bayes', GaussianNB), ('Multinomial Naive Bayes', MultinomialNB), \n",
    "             ('Bernoulli Naive Bayes', BernoulliNB), ('Complement Naive Bayes', ComplementNB), \n",
    "             ('Decision Tree Classifier', DecisionTreeClassifier), \n",
    "             ('Random Forest Classifier', RandomForestClassifier), ('AdaBoost Classifier', AdaBoostClassifier), \n",
    "             ('Gradient Boosting Classifier', GradientBoostingClassifier), ('Bagging Classifier', BaggingClassifier), \n",
    "             ('Extra Trees Classifier', ExtraTreesClassifier), ('XGBoost', XGBClassifier)]\n",
    "\n",
    "# Creating a dataframe to compare the performance of the machine learning models\n",
    "comparison_cols = ['Algorithm', 'Training Time (Avg)', 'Accuracy (Avg)', 'Accuracy (3xSTD)']\n",
    "comparison_df = pd.DataFrame(columns=comparison_cols)\n",
    "\n",
    "# Generating training/validation dataset splits for cross validation\n",
    "cv_split = StratifiedShuffleSplit(n_splits=10, test_size=0.3, random_state=0)\n",
    "\n",
    "# Performing cross-validation to estimate the performance of the models\n",
    "for idx, est in enumerate(estimator):\n",
    "    \n",
    "    cv_results = cross_validate(est[1](), X_train, y_train, cv=cv_split)\n",
    "    \n",
    "    comparison_df.loc[idx, 'Algorithm'] = est[0]\n",
    "    comparison_df.loc[idx, 'Training Time (Avg)'] = cv_results['fit_time'].mean()\n",
    "    comparison_df.loc[idx, 'Accuracy (Avg)'] = cv_results['test_score'].mean()\n",
    "    comparison_df.loc[idx, 'Accuracy (3xSTD)'] = cv_results['test_score'].std() * 3\n",
    "\n",
    "comparison_df.set_index(keys='Algorithm', inplace=True)\n",
    "comparison_df.sort_values(by='Accuracy (Avg)', ascending=False, inplace=True)\n",
    "\n",
    "#Visualizing the performance of the models\n",
    "fig, ax = plt.subplots(figsize=(12,10))\n",
    "\n",
    "y_pos = np.arange(len(comparison_df))\n",
    "ax.barh(y_pos, comparison_df['Accuracy (Avg)'], xerr=comparison_df['Accuracy (3xSTD)'], color='purple')\n",
    "ax.set_yticks(y_pos)\n",
    "ax.set_yticklabels(comparison_df.index)\n",
    "ax.set_xlabel('Accuracy Score (Average)')\n",
    "ax.set_title('Performance Comparison After Simple Modelling', size=13)\n",
    "ax.set_xlim(0, 1)\n",
    "\n",
    "plt.show()"
   ]
  },
  {
   "cell_type": "markdown",
   "metadata": {},
   "source": [
    "Based on the chart above, we can achieve ~93% accuracy by performing simple modelling. In the next section, we will try to improve the models by tuning their hyperparameters.  "
   ]
  },
  {
   "cell_type": "markdown",
   "metadata": {},
   "source": [
    "<a id='section 4.2.'></a>\n",
    "### 4.2. Hyperparameter Optimization for the Best Models\n",
    "Hyperparameters are parameters whose value are set before the learning process begins. In other words, we cannot optimize hyperparameters through learning process. Hyperparameter optimization is the process of selecting the values for a model’s hyperparameters that maximize the accuracy of the model. In this section, we pick 8 top models to be optimized. We use [grid-search cross-validation](https://chrisalbon.com/machine_learning/model_evaluation/cross_validation_parameter_tuning_grid_search/) method to optimize the hyperparameters. "
   ]
  },
  {
   "cell_type": "code",
   "execution_count": 149,
   "metadata": {
    "collapsed": true
   },
   "outputs": [],
   "source": [
    "# A list of machine learning algorithms that will be optimized\n",
    "estimator = [('Extra Trees Classifier', ExtraTreesClassifier), \n",
    "             ('Linear SVC', LinearSVC), ('Bagging Classifier', BaggingClassifier),\n",
    "             ('Gradient Boosting Classifier', GradientBoostingClassifier),\n",
    "             ('AdaBoost Classifier', AdaBoostClassifier),\n",
    "             ('Random Forest Classifier', RandomForestClassifier),\n",
    "             ('Logistic Regression', LogisticRegression),  \n",
    "             ('Passive Aggressive Classifier', PassiveAggressiveClassifier)]\n",
    "\n",
    "index = [est[0] for est in estimator]\n",
    "\n",
    "# A dictionary containing hyperparameters that are to be optimized for each machine learning algorithm\n",
    "grid_params = {'SVC': {'C': np.arange(1,21,1), 'gamma': [0.005, 0.01, 0.015, 0.02], 'random_state': [0]},\n",
    "               'Ridge Classifier': {'alpha': [0.001, 0.0025, 0.005], 'random_state': [0]},\n",
    "               'Nu SVC': {'nu': [0.5], 'gamma': [0.001, 0.01, 0.1, 1], 'random_state': [0]},\n",
    "               'Gradient Boosting Classifier': {'learning_rate': [0.001, 0.005, 0.01, 0.015], 'random_state': [0],\n",
    "                                                'max_depth': [1,2,3,4,5], 'n_estimators': [300, 350, 400, 450, 500]},\n",
    "               'Linear SVC': {'C': [1, 5, 10], 'random_state': [0]},\n",
    "               'Logistic Regression': {'C': np.arange(2,7.5,0.25), \n",
    "                                       'solver': ['newton-cg', 'lbfgs', 'liblinear', 'sag', 'saga'], \n",
    "                                       'random_state': [0]},\n",
    "               'AdaBoost Classifier': {'learning_rate': np.arange(0.05, 0.21, 0.01), 'n_estimators': [50, 75, 100, 125, 150], \n",
    "                                       'random_state': [0]},\n",
    "               'Random Forest Classifier': {'n_estimators': [200, 250, 300, 350], 'max_depth': [1,2,3,4,5,6], \n",
    "                                            'criterion': ['gini', 'entropy'], 'random_state': [0]},\n",
    "               'Bagging Classifier': {'n_estimators': np.arange(200, 300, 10), 'random_state': [0]},\n",
    "               'XGBoost': {'learning_rate': [0.001, 0.005, 0.01, 0.015], 'random_state': [0],\n",
    "                           'max_depth': [1,2,3,4,5], 'n_estimators': [300, 350, 400, 450, 500]},\n",
    "               'Extra Trees Classifier': {'n_estimators': [10, 20, 50, 100], 'criterion': ['gini', 'entropy'],\n",
    "                                          'random_state': [0]},\n",
    "               'Passive Aggressive Classifier': {'C': np.arange(1,21,1)}\n",
    "              }\n",
    "\n",
    "# Creating a dataframe to compare the performance of the machine learning models after hyperparameter optimization \n",
    "best_params_df = pd.DataFrame(columns=['Optimized Hyperparameters', 'Accuracy'], index=index)\n",
    "\n",
    "# Performing grid-search cross-validation to optimize hyperparameters and estimate the performance of the models\n",
    "for idx, est in enumerate(estimator):\n",
    "    \n",
    "    best_clf = GridSearchCV(est[1](), param_grid=grid_params[est[0]], cv=cv_split, scoring='accuracy', n_jobs=12)\n",
    "    best_clf.fit(X_train, y_train)\n",
    "    \n",
    "    best_params_df.loc[est[0], 'Optimized Hyperparameters'] = [best_clf.best_params_]\n",
    "    best_params_df.loc[est[0], 'Accuracy'] = best_clf.best_score_\n",
    "    "
   ]
  },
  {
   "cell_type": "markdown",
   "metadata": {},
   "source": [
    "The results of grid-search cross-validation is shown below:"
   ]
  },
  {
   "cell_type": "code",
   "execution_count": 150,
   "metadata": {},
   "outputs": [
    {
     "data": {
      "text/html": [
       "<div>\n",
       "<style scoped>\n",
       "    .dataframe tbody tr th:only-of-type {\n",
       "        vertical-align: middle;\n",
       "    }\n",
       "\n",
       "    .dataframe tbody tr th {\n",
       "        vertical-align: top;\n",
       "    }\n",
       "\n",
       "    .dataframe thead th {\n",
       "        text-align: right;\n",
       "    }\n",
       "</style>\n",
       "<table border=\"1\" class=\"dataframe\">\n",
       "  <thead>\n",
       "    <tr style=\"text-align: right;\">\n",
       "      <th></th>\n",
       "      <th>Optimized Hyperparameters</th>\n",
       "      <th>Accuracy</th>\n",
       "    </tr>\n",
       "  </thead>\n",
       "  <tbody>\n",
       "    <tr>\n",
       "      <th>Random Forest Classifier</th>\n",
       "      <td>[{'criterion': 'entropy', 'max_depth': 1, 'n_e...</td>\n",
       "      <td>0.881731</td>\n",
       "    </tr>\n",
       "    <tr>\n",
       "      <th>Gradient Boosting Classifier</th>\n",
       "      <td>[{'learning_rate': 0.015, 'max_depth': 5, 'n_e...</td>\n",
       "      <td>0.923397</td>\n",
       "    </tr>\n",
       "    <tr>\n",
       "      <th>Bagging Classifier</th>\n",
       "      <td>[{'n_estimators': 200, 'random_state': 0}]</td>\n",
       "      <td>0.925641</td>\n",
       "    </tr>\n",
       "    <tr>\n",
       "      <th>Passive Aggressive Classifier</th>\n",
       "      <td>[{'C': 20}]</td>\n",
       "      <td>0.927885</td>\n",
       "    </tr>\n",
       "    <tr>\n",
       "      <th>AdaBoost Classifier</th>\n",
       "      <td>[{'learning_rate': 0.18000000000000005, 'n_est...</td>\n",
       "      <td>0.928526</td>\n",
       "    </tr>\n",
       "    <tr>\n",
       "      <th>Linear SVC</th>\n",
       "      <td>[{'C': 1, 'random_state': 0}]</td>\n",
       "      <td>0.930128</td>\n",
       "    </tr>\n",
       "    <tr>\n",
       "      <th>Logistic Regression</th>\n",
       "      <td>[{'C': 6.0, 'random_state': 0, 'solver': 'libl...</td>\n",
       "      <td>0.932051</td>\n",
       "    </tr>\n",
       "    <tr>\n",
       "      <th>Extra Trees Classifier</th>\n",
       "      <td>[{'criterion': 'gini', 'n_estimators': 100, 'r...</td>\n",
       "      <td>0.943269</td>\n",
       "    </tr>\n",
       "  </tbody>\n",
       "</table>\n",
       "</div>"
      ],
      "text/plain": [
       "                                                       Optimized Hyperparameters  \\\n",
       "Random Forest Classifier       [{'criterion': 'entropy', 'max_depth': 1, 'n_e...   \n",
       "Gradient Boosting Classifier   [{'learning_rate': 0.015, 'max_depth': 5, 'n_e...   \n",
       "Bagging Classifier                    [{'n_estimators': 200, 'random_state': 0}]   \n",
       "Passive Aggressive Classifier                                        [{'C': 20}]   \n",
       "AdaBoost Classifier            [{'learning_rate': 0.18000000000000005, 'n_est...   \n",
       "Linear SVC                                         [{'C': 1, 'random_state': 0}]   \n",
       "Logistic Regression            [{'C': 6.0, 'random_state': 0, 'solver': 'libl...   \n",
       "Extra Trees Classifier         [{'criterion': 'gini', 'n_estimators': 100, 'r...   \n",
       "\n",
       "                               Accuracy  \n",
       "Random Forest Classifier       0.881731  \n",
       "Gradient Boosting Classifier   0.923397  \n",
       "Bagging Classifier             0.925641  \n",
       "Passive Aggressive Classifier  0.927885  \n",
       "AdaBoost Classifier            0.928526  \n",
       "Linear SVC                     0.930128  \n",
       "Logistic Regression            0.932051  \n",
       "Extra Trees Classifier         0.943269  "
      ]
     },
     "execution_count": 150,
     "metadata": {},
     "output_type": "execute_result"
    }
   ],
   "source": [
    "# Showing the results of grid-search cross-validation\n",
    "best_params_df.sort_values('Accuracy')"
   ]
  },
  {
   "cell_type": "code",
   "execution_count": 153,
   "metadata": {},
   "outputs": [
    {
     "data": {
      "text/plain": [
       "[{'criterion': 'gini', 'n_estimators': 100, 'random_state': 0}]"
      ]
     },
     "execution_count": 153,
     "metadata": {},
     "output_type": "execute_result"
    }
   ],
   "source": [
    "best_params_df.loc['Extra Trees Classifier', 'Optimized Hyperparameters']"
   ]
  },
  {
   "cell_type": "markdown",
   "metadata": {},
   "source": [
    "The best performance is achieved by extra trees classifier with 94.32% accuracy. This is a slight improvement from 93.58% accuracy achieved by simple modelling. "
   ]
  },
  {
   "cell_type": "markdown",
   "metadata": {},
   "source": [
    "---\n",
    "<a id='section 5.0.'></a>\n",
    "## 5.0. Prediction\n",
    "We use extra trees classifier with hyperparameter optimization to make predictions using the test set."
   ]
  },
  {
   "cell_type": "code",
   "execution_count": 154,
   "metadata": {},
   "outputs": [
    {
     "name": "stdout",
     "output_type": "stream",
     "text": [
      "The accuracy of the model based on the test set: 0.9423076923076923\n"
     ]
    }
   ],
   "source": [
    "from sklearn.metrics import accuracy_score\n",
    "\n",
    "clf = ExtraTreesClassifier(criterion = 'gini',\n",
    "                           n_estimators = 100,\n",
    "                           random_state = 0)\n",
    "\n",
    "clf.fit(X_train, y_train)\n",
    "\n",
    "predictions = clf.predict(X_test)\n",
    "\n",
    "print('The accuracy of the model based on the test set: {}'.format(accuracy_score(y_test, predictions)))"
   ]
  },
  {
   "cell_type": "markdown",
   "metadata": {},
   "source": [
    "The result is not too different to the training result. It shows that our model does not overfit the training set.\n",
    "We strictly use our evaluation based on accuracy metric. Accuracy is selected, as it can provide insight regarding the overall performance of the classifier in predicting unseen instances. To provide more insights regarding the model performance, we evaluate precision, recall, and F1 score of the model.\n",
    "- **Precision** measures the ability of the classifier to make a correct positive prediction. Precision addresses the question: \"Among all positive predictions, what is the probability of them being correct?” However, a classifier with a high precision score does not necessarily imply a good prediction model, as it may indicate that the classifier misses numerous positive instances in the dataset.\n",
    "- **Recall** is used to complement precision by measuring the ability of the clas- sifier to discover instances with a positive class. Recall addresses the question: \"Of all items that belong to a positive class, what fractions does the classifier correctly detect as positive?”\n",
    "- **F1 score** is the weighted average of precision and recall. Therefore, this score takes both false positives and false negatives into account.\n",
    "\n",
    "Let's see the performance of the model in terms of precision, recall, and F1 score."
   ]
  },
  {
   "cell_type": "code",
   "execution_count": 157,
   "metadata": {},
   "outputs": [
    {
     "name": "stdout",
     "output_type": "stream",
     "text": [
      "The precision of the model based on the test set: 0.9541984732824428\n",
      "The recall of the model based on the test set: 0.9328358208955224\n",
      "The F1 score of the model based on the test set: 0.9433962264150944\n"
     ]
    }
   ],
   "source": [
    "from sklearn.metrics import precision_score, recall_score, f1_score\n",
    "\n",
    "print('The precision of the model based on the test set: {}'.format(precision_score(y_test, predictions)))\n",
    "print('The recall of the model based on the test set: {}'.format(recall_score(y_test, predictions)))\n",
    "print('The F1 score of the model based on the test set: {}'.format(f1_score(y_test, predictions)))"
   ]
  }
 ],
 "metadata": {
  "kernelspec": {
   "display_name": "Python 3",
   "language": "python",
   "name": "python3"
  },
  "language_info": {
   "codemirror_mode": {
    "name": "ipython",
    "version": 3
   },
   "file_extension": ".py",
   "mimetype": "text/x-python",
   "name": "python",
   "nbconvert_exporter": "python",
   "pygments_lexer": "ipython3",
   "version": "3.6.3"
  }
 },
 "nbformat": 4,
 "nbformat_minor": 2
}
